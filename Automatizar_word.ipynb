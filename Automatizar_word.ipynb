{
 "cells": [
  {
   "cell_type": "code",
   "execution_count": 18,
   "id": "cd20e8e4",
   "metadata": {},
   "outputs": [],
   "source": [
    "!pip install docxtpl -q"
   ]
  },
  {
   "cell_type": "code",
   "execution_count": 19,
   "id": "3c2e9bab",
   "metadata": {},
   "outputs": [
    {
     "name": "stdout",
     "output_type": "stream",
     "text": [
      "Requirement already satisfied: pandas in c:\\users\\user\\appdata\\local\\programs\\python\\python313\\lib\\site-packages (2.3.1)\n",
      "Requirement already satisfied: numpy>=1.26.0 in c:\\users\\user\\appdata\\local\\programs\\python\\python313\\lib\\site-packages (from pandas) (2.3.1)\n",
      "Requirement already satisfied: python-dateutil>=2.8.2 in c:\\users\\user\\appdata\\local\\programs\\python\\python313\\lib\\site-packages (from pandas) (2.9.0.post0)\n",
      "Requirement already satisfied: pytz>=2020.1 in c:\\users\\user\\appdata\\local\\programs\\python\\python313\\lib\\site-packages (from pandas) (2025.2)\n",
      "Requirement already satisfied: tzdata>=2022.7 in c:\\users\\user\\appdata\\local\\programs\\python\\python313\\lib\\site-packages (from pandas) (2025.2)\n",
      "Requirement already satisfied: six>=1.5 in c:\\users\\user\\appdata\\local\\programs\\python\\python313\\lib\\site-packages (from python-dateutil>=2.8.2->pandas) (1.17.0)\n"
     ]
    }
   ],
   "source": [
    "!pip install pandas"
   ]
  },
  {
   "cell_type": "code",
   "execution_count": 7,
   "id": "b83508f1",
   "metadata": {},
   "outputs": [
    {
     "name": "stderr",
     "output_type": "stream",
     "text": [
      "\"conda\" no se reconoce como un comando interno o externo,\n",
      "programa o archivo por lotes ejecutable.\n"
     ]
    }
   ],
   "source": [
    "!conda install pandas -y"
   ]
  },
  {
   "cell_type": "code",
   "execution_count": 8,
   "id": "3252b4cc-4e5c-445d-b171-12a280b38e27",
   "metadata": {},
   "outputs": [
    {
     "name": "stdout",
     "output_type": "stream",
     "text": [
      "C:\\Users\\user\\AppData\\Local\\Programs\\Python\\Python313\\python.exe\n"
     ]
    }
   ],
   "source": [
    "import sys\n",
    "print(sys.executable)"
   ]
  },
  {
   "cell_type": "code",
   "execution_count": 20,
   "id": "e0fa0957-9ed1-4191-bf80-8f62f40817b3",
   "metadata": {},
   "outputs": [
    {
     "name": "stdout",
     "output_type": "stream",
     "text": [
      "Requirement already satisfied: pandas in c:\\users\\user\\appdata\\local\\programs\\python\\python313\\lib\\site-packages (2.3.1)\n",
      "Requirement already satisfied: numpy>=1.26.0 in c:\\users\\user\\appdata\\local\\programs\\python\\python313\\lib\\site-packages (from pandas) (2.3.1)\n",
      "Requirement already satisfied: python-dateutil>=2.8.2 in c:\\users\\user\\appdata\\local\\programs\\python\\python313\\lib\\site-packages (from pandas) (2.9.0.post0)\n",
      "Requirement already satisfied: pytz>=2020.1 in c:\\users\\user\\appdata\\local\\programs\\python\\python313\\lib\\site-packages (from pandas) (2025.2)\n",
      "Requirement already satisfied: tzdata>=2022.7 in c:\\users\\user\\appdata\\local\\programs\\python\\python313\\lib\\site-packages (from pandas) (2025.2)\n",
      "Requirement already satisfied: six>=1.5 in c:\\users\\user\\appdata\\local\\programs\\python\\python313\\lib\\site-packages (from python-dateutil>=2.8.2->pandas) (1.17.0)\n"
     ]
    }
   ],
   "source": [
    "!pip install pandas"
   ]
  },
  {
   "cell_type": "code",
   "execution_count": 21,
   "id": "50d78638-4851-47d4-8fa9-e07e453e1219",
   "metadata": {},
   "outputs": [
    {
     "name": "stderr",
     "output_type": "stream",
     "text": [
      "\"conda\" no se reconoce como un comando interno o externo,\n",
      "programa o archivo por lotes ejecutable.\n"
     ]
    }
   ],
   "source": [
    "!conda install pandas -y"
   ]
  },
  {
   "cell_type": "code",
   "execution_count": 22,
   "id": "f10adb63-3336-46fc-8cc0-393a18dfeca2",
   "metadata": {},
   "outputs": [
    {
     "name": "stdout",
     "output_type": "stream",
     "text": [
      "c:\\Users\\user\\AppData\\Local\\Programs\\Python\\Python313\\python.exe\n"
     ]
    }
   ],
   "source": [
    "import sys\n",
    "print(sys.executable)"
   ]
  },
  {
   "cell_type": "code",
   "execution_count": 23,
   "id": "1632c799-3452-439c-8262-e79d13701f2a",
   "metadata": {},
   "outputs": [],
   "source": [
    "import pandas as pd\n",
    "from datetime import datetime\n",
    "from docxtpl import DocxTemplate"
   ]
  },
  {
   "cell_type": "code",
   "execution_count": 6,
   "id": "ad5fec79-d1db-4cf9-a445-e19c421c2b76",
   "metadata": {},
   "outputs": [
    {
     "name": "stdout",
     "output_type": "stream",
     "text": [
      "Requirement already satisfied: pandas in c:\\users\\user\\appdata\\local\\programs\\python\\python313\\lib\\site-packages (2.3.1)\n",
      "Requirement already satisfied: docxtpl in c:\\users\\user\\appdata\\local\\programs\\python\\python313\\lib\\site-packages (0.20.1)\n",
      "Requirement already satisfied: numpy>=1.26.0 in c:\\users\\user\\appdata\\local\\programs\\python\\python313\\lib\\site-packages (from pandas) (2.3.1)\n",
      "Requirement already satisfied: python-dateutil>=2.8.2 in c:\\users\\user\\appdata\\local\\programs\\python\\python313\\lib\\site-packages (from pandas) (2.9.0.post0)\n",
      "Requirement already satisfied: pytz>=2020.1 in c:\\users\\user\\appdata\\local\\programs\\python\\python313\\lib\\site-packages (from pandas) (2025.2)\n",
      "Requirement already satisfied: tzdata>=2022.7 in c:\\users\\user\\appdata\\local\\programs\\python\\python313\\lib\\site-packages (from pandas) (2025.2)\n",
      "Requirement already satisfied: python-docx>=1.1.1 in c:\\users\\user\\appdata\\local\\programs\\python\\python313\\lib\\site-packages (from docxtpl) (1.2.0)\n",
      "Requirement already satisfied: docxcompose in c:\\users\\user\\appdata\\local\\programs\\python\\python313\\lib\\site-packages (from docxtpl) (1.4.0)\n",
      "Requirement already satisfied: jinja2 in c:\\users\\user\\appdata\\local\\programs\\python\\python313\\lib\\site-packages (from docxtpl) (3.1.6)\n",
      "Requirement already satisfied: lxml in c:\\users\\user\\appdata\\local\\programs\\python\\python313\\lib\\site-packages (from docxtpl) (6.0.0)\n",
      "Requirement already satisfied: six>=1.5 in c:\\users\\user\\appdata\\local\\programs\\python\\python313\\lib\\site-packages (from python-dateutil>=2.8.2->pandas) (1.17.0)\n",
      "Requirement already satisfied: typing_extensions>=4.9.0 in c:\\users\\user\\appdata\\local\\programs\\python\\python313\\lib\\site-packages (from python-docx>=1.1.1->docxtpl) (4.14.1)\n",
      "Requirement already satisfied: setuptools in c:\\users\\user\\appdata\\local\\programs\\python\\python313\\lib\\site-packages (from docxcompose->docxtpl) (80.9.0)\n",
      "Requirement already satisfied: babel in c:\\users\\user\\appdata\\local\\programs\\python\\python313\\lib\\site-packages (from docxcompose->docxtpl) (2.17.0)\n",
      "Requirement already satisfied: MarkupSafe>=2.0 in c:\\users\\user\\appdata\\local\\programs\\python\\python313\\lib\\site-packages (from jinja2->docxtpl) (3.0.2)\n"
     ]
    }
   ],
   "source": [
    "!pip install pandas docxtpl"
   ]
  },
  {
   "cell_type": "code",
   "execution_count": 24,
   "id": "3fa7c457-e96f-4d56-9c7e-b3037168fbdd",
   "metadata": {},
   "outputs": [
    {
     "name": "stdout",
     "output_type": "stream",
     "text": [
      "Pandas: 2.3.1\n",
      "DocxTemplate: 0.20.1\n"
     ]
    }
   ],
   "source": [
    "import pandas\n",
    "import docxtpl\n",
    "print(\"Pandas:\", pandas.__version__)\n",
    "print(\"DocxTemplate:\", docxtpl.__version__)"
   ]
  },
  {
   "cell_type": "code",
   "execution_count": 25,
   "id": "4d03df94-527b-440a-a3e9-f1d66261e77f",
   "metadata": {},
   "outputs": [],
   "source": [
    "doc = DocxTemplate(\"plantilla.docx\")"
   ]
  },
  {
   "cell_type": "code",
   "execution_count": 26,
   "id": "f054a256-f7ea-46c4-b96c-8a58c6609397",
   "metadata": {},
   "outputs": [],
   "source": [
    "nombre = \"Anibal Apaza\"\n",
    "telefono = \"993391201\"\n",
    "correo = \"anibalapaza2018@gmail.com\"\n",
    "fecha = datetime.today().strftime(\"%d/%m/%Y\")"
   ]
  },
  {
   "cell_type": "code",
   "execution_count": 27,
   "id": "3f9fbf67-7f38-4fc4-93ff-99e63ec3b762",
   "metadata": {},
   "outputs": [
    {
     "name": "stdout",
     "output_type": "stream",
     "text": [
      "23/07/2025\n"
     ]
    }
   ],
   "source": [
    "print(fecha)"
   ]
  },
  {
   "cell_type": "code",
   "execution_count": 28,
   "id": "71330f64-635e-48b9-8e35-3650be10c19a",
   "metadata": {},
   "outputs": [],
   "source": [
    "constantes = {'nombre': nombre, 'telefono': telefono, 'correo': correo,\n",
    "              'fecha': fecha}"
   ]
  },
  {
   "cell_type": "code",
   "execution_count": 29,
   "id": "3e63a241-342e-4afd-a418-cd57064c3f61",
   "metadata": {},
   "outputs": [
    {
     "name": "stdout",
     "output_type": "stream",
     "text": [
      "{'nombre': 'Anibal Apaza', 'telefono': '993391201', 'correo': 'anibalapaza2018@gmail.com', 'fecha': '23/07/2025'}\n"
     ]
    }
   ],
   "source": [
    "print(constantes)"
   ]
  },
  {
   "cell_type": "code",
   "execution_count": 3,
   "id": "6beb80d2-e857-4107-92b6-96d3766a4e05",
   "metadata": {},
   "outputs": [
    {
     "ename": "NameError",
     "evalue": "name 'pd' is not defined",
     "output_type": "error",
     "traceback": [
      "\u001b[31m---------------------------------------------------------------------------\u001b[39m",
      "\u001b[31mNameError\u001b[39m                                 Traceback (most recent call last)",
      "\u001b[36mCell\u001b[39m\u001b[36m \u001b[39m\u001b[32mIn[3]\u001b[39m\u001b[32m, line 1\u001b[39m\n\u001b[32m----> \u001b[39m\u001b[32m1\u001b[39m df = \u001b[43mpd\u001b[49m.read_excel(\u001b[33m'\u001b[39m\u001b[33mAlumnos.xlsx\u001b[39m\u001b[33m'\u001b[39m)\n",
      "\u001b[31mNameError\u001b[39m: name 'pd' is not defined"
     ]
    }
   ],
   "source": [
    "df = pd.read_excel('Alumnos.xlsx')"
   ]
  },
  {
   "cell_type": "code",
   "execution_count": 1,
   "id": "1abb8819-f0f9-4a40-9734-9f9094f14160",
   "metadata": {
    "scrolled": true
   },
   "outputs": [
    {
     "ename": "NameError",
     "evalue": "name 'df' is not defined",
     "output_type": "error",
     "traceback": [
      "\u001b[31m---------------------------------------------------------------------------\u001b[39m",
      "\u001b[31mNameError\u001b[39m                                 Traceback (most recent call last)",
      "\u001b[36mCell\u001b[39m\u001b[36m \u001b[39m\u001b[32mIn[1]\u001b[39m\u001b[32m, line 1\u001b[39m\n\u001b[32m----> \u001b[39m\u001b[32m1\u001b[39m \u001b[43mdf\u001b[49m\n",
      "\u001b[31mNameError\u001b[39m: name 'df' is not defined"
     ]
    }
   ],
   "source": [
    "df"
   ]
  },
  {
   "cell_type": "code",
   "execution_count": 32,
   "id": "a1269505-3813-4364-b5eb-719863675837",
   "metadata": {
    "scrolled": true
   },
   "outputs": [
    {
     "name": "stdout",
     "output_type": "stream",
     "text": [
      "{'nombre_alumno': 'Juan Pérez', 'nota_mat': 'Mediastino: Central. Estructuras vasculares de calibre normal. Calcificación de las paredes del cayado de la aorta y de la válvula aortica. Troncos supra aórticos de adecuada configuración. Cavidades cardiacas muestran leve crecimiento global.. Pericardio de grosor normal, no se evidencian colecciones. Tráquea y bronquios muestran leve esclerosis de pared. Esófago contraído sin evidencia de engrosamiento de pared en toda su extensión. Ganglios mediastinales de hasta 6 mm. ', 'nota_fis': 53, 'nota_qui': 1, 'nombre': 'Anibal Apaza', 'telefono': '993391201', 'correo': 'anibalapaza2018@gmail.com', 'fecha': '23/07/2025'}\n",
      "{'nombre_alumno': 'Ana Soto', 'nota_mat': 8, 'nota_fis': 5, 'nota_qui': 1, 'nombre': 'Anibal Apaza', 'telefono': '993391201', 'correo': 'anibalapaza2018@gmail.com', 'fecha': '23/07/2025'}\n",
      "{'nombre_alumno': 'Luis Rodríguez', 'nota_mat': 8, 'nota_fis': 5, 'nota_qui': 1, 'nombre': 'Anibal Apaza', 'telefono': '993391201', 'correo': 'anibalapaza2018@gmail.com', 'fecha': '23/07/2025'}\n",
      "{'nombre_alumno': 'María González', 'nota_mat': 8, 'nota_fis': 5, 'nota_qui': 1, 'nombre': 'Anibal Apaza', 'telefono': '993391201', 'correo': 'anibalapaza2018@gmail.com', 'fecha': '23/07/2025'}\n",
      "{'nombre_alumno': 'Carlos Ruiz', 'nota_mat': 8, 'nota_fis': 5, 'nota_qui': 1, 'nombre': 'Anibal Apaza', 'telefono': '993391201', 'correo': 'anibalapaza2018@gmail.com', 'fecha': '23/07/2025'}\n",
      "{'nombre_alumno': 'Sofía Díaz', 'nota_mat': 8, 'nota_fis': 5, 'nota_qui': 1, 'nombre': 'Anibal Apaza', 'telefono': '993391201', 'correo': 'anibalapaza2018@gmail.com', 'fecha': '23/07/2025'}\n",
      "{'nombre_alumno': 'Lucas Méndez', 'nota_mat': 8, 'nota_fis': 5, 'nota_qui': 1, 'nombre': 'Anibal Apaza', 'telefono': '993391201', 'correo': 'anibalapaza2018@gmail.com', 'fecha': '23/07/2025'}\n",
      "{'nombre_alumno': 'Isabel Paredes', 'nota_mat': 8, 'nota_fis': 5, 'nota_qui': 6, 'nombre': 'Anibal Apaza', 'telefono': '993391201', 'correo': 'anibalapaza2018@gmail.com', 'fecha': '23/07/2025'}\n",
      "{'nombre_alumno': 'Daniel Castillo', 'nota_mat': 8, 'nota_fis': 5, 'nota_qui': 6, 'nombre': 'Anibal Apaza', 'telefono': '993391201', 'correo': 'anibalapaza2018@gmail.com', 'fecha': '23/07/2025'}\n",
      "{'nombre_alumno': 'Fernanda Herrera', 'nota_mat': 8, 'nota_fis': 5, 'nota_qui': 6, 'nombre': 'Anibal Apaza', 'telefono': '993391201', 'correo': 'anibalapaza2018@gmail.com', 'fecha': '23/07/2025'}\n"
     ]
    }
   ],
   "source": [
    "for indice, fila in df.iterrows():\n",
    "    contenido = {\n",
    "        'nombre_alumno':fila[\"Nombre del Alumno\"],\n",
    "        'nota_mat': fila['Mat'],\n",
    "        'nota_fis': fila['Fis'],\n",
    "        'nota_qui': fila['Qui']\n",
    "    }\n",
    "    contenido.update(constantes)\n",
    "    \n",
    "    doc.render(contenido)\n",
    "    doc.save(f\"Notas_de_{fila['Nombre del Alumno']}.docx\")\n",
    "    \n",
    "    print(contenido)"
   ]
  },
  {
   "cell_type": "code",
   "execution_count": 33,
   "id": "379877b6-5236-424a-960d-531bd53fe284",
   "metadata": {},
   "outputs": [],
   "source": [
    "doc.render(constantes)\n",
    "doc.save(f\"prueba.docx\")"
   ]
  },
  {
   "cell_type": "code",
   "execution_count": null,
   "id": "d20fb6bc-8323-450c-a0ae-23b4583cfaa0",
   "metadata": {},
   "outputs": [],
   "source": []
  }
 ],
 "metadata": {
  "kernelspec": {
   "display_name": "Python 3 (ipykernel)",
   "language": "python",
   "name": "python3"
  },
  "language_info": {
   "codemirror_mode": {
    "name": "ipython",
    "version": 3
   },
   "file_extension": ".py",
   "mimetype": "text/x-python",
   "name": "python",
   "nbconvert_exporter": "python",
   "pygments_lexer": "ipython3",
   "version": "3.13.5"
  }
 },
 "nbformat": 4,
 "nbformat_minor": 5
}
